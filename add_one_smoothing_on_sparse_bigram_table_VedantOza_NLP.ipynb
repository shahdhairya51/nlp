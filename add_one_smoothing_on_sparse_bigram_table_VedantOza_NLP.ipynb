{
  "nbformat": 4,
  "nbformat_minor": 0,
  "metadata": {
    "colab": {
      "provenance": []
    },
    "kernelspec": {
      "name": "python3",
      "display_name": "Python 3"
    },
    "language_info": {
      "name": "python"
    }
  },
  "cells": [
    {
      "cell_type": "code",
      "execution_count": null,
      "metadata": {
        "colab": {
          "base_uri": "https://localhost:8080/"
        },
        "id": "k5yrRiFCIt0V",
        "outputId": "1920966b-e6ac-46fb-fbbf-44de96ee4117"
      },
      "outputs": [
        {
          "output_type": "stream",
          "name": "stdout",
          "text": [
            "Bigram: ('(eos)', 'I'), Probability: 0.00017522340984755565\n",
            "Bigram: ('(eos)', 'you'), Probability: 0.052742246364114245\n",
            "Bigram: ('(eos)', 'him'), Probability: 0.052742246364114245\n",
            "Bigram: ('(eos)', 'can'), Probability: 0.00017522340984755565\n",
            "Bigram: ('(eos)', 'near'), Probability: 0.052742246364114245\n",
            "Bigram: ('(eos)', 'sit'), Probability: 0.00017522340984755565\n",
            "Bigram: ('I', 'you'), Probability: 0.00017522340984755565\n",
            "Bigram: ('I', 'him'), Probability: 0.00017522340984755565\n",
            "Bigram: ('I', 'can'), Probability: 0.00017522340984755565\n",
            "Bigram: ('I', 'near'), Probability: 0.052742246364114245\n",
            "Bigram: ('I', 'sit'), Probability: 0.00017522340984755565\n",
            "Bigram: ('you', 'him'), Probability: 0.10530926931838093\n",
            "Bigram: ('you', 'can'), Probability: 0.00017522340984755565\n",
            "Bigram: ('you', 'near'), Probability: 0.00017522340984755565\n",
            "Bigram: ('you', 'sit'), Probability: 0.052742246364114245\n",
            "Bigram: ('him', 'can'), Probability: 0.052742246364114245\n",
            "Bigram: ('him', 'near'), Probability: 0.00017522340984755565\n",
            "Bigram: ('him', 'sit'), Probability: 0.00017522340984755565\n",
            "Bigram: ('can', 'near'), Probability: 0.00017522340984755565\n",
            "Bigram: ('can', 'sit'), Probability: 0.00017522340984755565\n",
            "Bigram: ('near', 'I'), Probability: 0.052742246364114245\n",
            "Bigram: ('near', 'you'), Probability: 0.00017522340984755565\n",
            "Bigram: ('near', 'can'), Probability: 0.052742246364114245\n",
            "Bigram: ('near', 'sit'), Probability: 0.00017522340984755565\n",
            "Bigram: ('sit', 'you'), Probability: 0.052742246364114245\n",
            "Bigram: ('sit', 'near'), Probability: 0.10530926931838093\n"
          ]
        }
      ],
      "source": [
        "from collections import defaultdict\n",
        "\n",
        "def add_one_smoothing(bigram_counts, N, V):\n",
        "    # Calculate the total count of all bigrams\n",
        "    total_count = N\n",
        "\n",
        "    # Calculate the vocabulary size\n",
        "    vocabulary_size = V\n",
        "\n",
        "    # Calculate the smoothed probabilities\n",
        "    smoothed_probabilities = defaultdict(float)\n",
        "    for bigram, count in bigram_counts.items():\n",
        "        # Add one to the count of each bigram\n",
        "        smoothed_count = count + 1\n",
        "        # Add one to the denominator for Laplace smoothing\n",
        "        smoothed_probabilities[bigram] = smoothed_count / (total_count + vocabulary_size)\n",
        "\n",
        "    return smoothed_probabilities\n",
        "\n",
        "# Bigram counts for the corpus\n",
        "bigram_counts = {\n",
        "    ('(eos)', 'I'): 0, ('(eos)', 'you'): 300, ('(eos)', 'him'): 300, ('(eos)', 'can'): 0, ('(eos)', 'near'): 300, ('(eos)', 'sit'): 0,\n",
        "    ('I', 'you'): 0, ('I', 'him'): 0, ('I', 'can'): 0, ('I', 'near'): 300, ('I', 'sit'): 0,\n",
        "    ('you', 'him'): 600, ('you', 'can'): 0, ('you', 'near'): 0, ('you', 'sit'): 300,\n",
        "    ('him', 'can'): 300, ('him', 'near'): 0, ('him', 'sit'): 0,\n",
        "    ('can', 'near'): 0, ('can', 'sit'): 0,\n",
        "    ('near', 'I'): 300, ('near', 'you'): 0, ('near', 'can'): 300, ('near', 'sit'): 0,\n",
        "    ('sit', 'you'): 300, ('sit', 'near'): 600\n",
        "}\n",
        "\n",
        "# Total count of bigrams\n",
        "N = 5700\n",
        "\n",
        "# Vocabulary size\n",
        "V = 7\n",
        "\n",
        "# Apply add-one smoothing\n",
        "smoothed_probabilities = add_one_smoothing(bigram_counts, N, V)\n",
        "\n",
        "# Print smoothed probabilities\n",
        "for bigram, probability in smoothed_probabilities.items():\n",
        "    print(f\"Bigram: {bigram}, Probability: {probability}\")\n"
      ]
    }
  ]
}