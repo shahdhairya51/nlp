{
  "nbformat": 4,
  "nbformat_minor": 0,
  "metadata": {
    "colab": {
      "provenance": []
    },
    "kernelspec": {
      "name": "python3",
      "display_name": "Python 3"
    },
    "language_info": {
      "name": "python"
    }
  },
  "cells": [
    {
      "cell_type": "code",
      "source": [
        "import nltk\n",
        "nltk.download('wordnet')\n",
        "from nltk.corpus import wordnet\n",
        "\n",
        "def wordnet_features(word):\n",
        "    \"\"\"\n",
        "    Retrieves various features of a word from WordNet.\n",
        "    \"\"\"\n",
        "    synsets = wordnet.synsets(word)\n",
        "    features = {\n",
        "        'synsets': synsets,\n",
        "        'definitions': [syn.definition() for syn in synsets],\n",
        "        'examples': [syn.examples() for syn in synsets],\n",
        "        'hypernyms': [syn.hypernyms() for syn in synsets],\n",
        "        'hyponyms': [syn.hyponyms() for syn in synsets]\n",
        "    }\n",
        "    return features\n",
        "# Example usage\n",
        "word = 'dog'\n",
        "word_features = wordnet_features(word)\n",
        "print(\"WordNet Features for 'dog':\")\n",
        "print(\"Synsets:\", word_features['synsets'])\n",
        "print(\"Definitions:\", word_features['definitions'])\n",
        "print(\"Examples:\", word_features['examples'])\n",
        "print(\"Hypernyms:\", word_features['hypernyms'])\n",
        "print(\"Hyponyms:\", word_features['hyponyms'])\n"
      ],
      "metadata": {
        "colab": {
          "base_uri": "https://localhost:8080/"
        },
        "id": "Pdy4HM81aZ7k",
        "outputId": "fe03ae5b-bba9-4fa1-bac5-6d2245df6fb7"
      },
      "execution_count": null,
      "outputs": [
        {
          "output_type": "stream",
          "name": "stdout",
          "text": [
            "WordNet Features for 'dog':\n",
            "Synsets: [Synset('dog.n.01'), Synset('frump.n.01'), Synset('dog.n.03'), Synset('cad.n.01'), Synset('frank.n.02'), Synset('pawl.n.01'), Synset('andiron.n.01'), Synset('chase.v.01')]\n",
            "Definitions: ['a member of the genus Canis (probably descended from the common wolf) that has been domesticated by man since prehistoric times; occurs in many breeds', 'a dull unattractive unpleasant girl or woman', 'informal term for a man', 'someone who is morally reprehensible', 'a smooth-textured sausage of minced beef or pork usually smoked; often served on a bread roll', 'a hinged catch that fits into a notch of a ratchet to move a wheel forward or prevent it from moving backward', 'metal supports for logs in a fireplace', 'go after with the intent to catch']\n",
            "Examples: [['the dog barked all night'], ['she got a reputation as a frump', \"she's a real dog\"], ['you lucky dog'], ['you dirty dog'], [], [], ['the andirons were too hot to touch'], ['The policeman chased the mugger down the alley', 'the dog chased the rabbit']]\n",
            "Hypernyms: [[Synset('canine.n.02'), Synset('domestic_animal.n.01')], [Synset('unpleasant_woman.n.01')], [Synset('chap.n.01')], [Synset('villain.n.01')], [Synset('sausage.n.01')], [Synset('catch.n.06')], [Synset('support.n.10')], [Synset('pursue.v.02')]]\n",
            "Hyponyms: [[Synset('basenji.n.01'), Synset('corgi.n.01'), Synset('cur.n.01'), Synset('dalmatian.n.02'), Synset('great_pyrenees.n.01'), Synset('griffon.n.02'), Synset('hunting_dog.n.01'), Synset('lapdog.n.01'), Synset('leonberg.n.01'), Synset('mexican_hairless.n.01'), Synset('newfoundland.n.01'), Synset('pooch.n.01'), Synset('poodle.n.01'), Synset('pug.n.01'), Synset('puppy.n.01'), Synset('spitz.n.01'), Synset('toy_dog.n.01'), Synset('working_dog.n.01')], [], [], [Synset('perisher.n.01')], [Synset('vienna_sausage.n.01')], [], [], [Synset('hound.v.01'), Synset('quest.v.02'), Synset('run_down.v.07'), Synset('tree.v.03')]]\n"
          ]
        },
        {
          "output_type": "stream",
          "name": "stderr",
          "text": [
            "[nltk_data] Downloading package wordnet to /root/nltk_data...\n",
            "[nltk_data]   Package wordnet is already up-to-date!\n"
          ]
        }
      ]
    },
    {
      "cell_type": "code",
      "source": [
        "import nltk\n",
        "nltk.download('wordnet')\n",
        "nltk.download('punkt')\n",
        "nltk.download('averaged_perceptron_tagger')\n",
        "\n",
        "from nltk.corpus import wordnet\n",
        "from nltk.wsd import lesk\n",
        "from nltk.tokenize import word_tokenize\n",
        "\n",
        "def word_sense_disambiguation(sentence, word):\n",
        "    \"\"\"\n",
        "    Performs word sense disambiguation using Lesk algorithm.\n",
        "    \"\"\"\n",
        "    tokens = word_tokenize(sentence)\n",
        "    best_sense = lesk(tokens, word)\n",
        "    return best_sense.definition() if best_sense else \"Unable to disambiguate the word sense.\"\n",
        "\n",
        "# Example usage\n",
        "sentence = \"The bank on the river side was sloping.\"\n",
        "word = 'bank'\n",
        "sense = word_sense_disambiguation(sentence, word)\n",
        "print(\"Sentence:\", sentence)\n",
        "print(\"Word:\", word)\n",
        "print(\"Sense Disambiguation:\", sense)\n"
      ],
      "metadata": {
        "colab": {
          "base_uri": "https://localhost:8080/"
        },
        "id": "_9vkz89WbKqb",
        "outputId": "7269416e-1e31-4402-a551-2bfddaf94a3d"
      },
      "execution_count": null,
      "outputs": [
        {
          "output_type": "stream",
          "name": "stdout",
          "text": [
            "Sentence: The bank on the river side was sloping.\n",
            "Word: bank\n",
            "Sense Disambiguation: sloping land (especially the slope beside a body of water)\n"
          ]
        },
        {
          "output_type": "stream",
          "name": "stderr",
          "text": [
            "[nltk_data] Downloading package wordnet to /root/nltk_data...\n",
            "[nltk_data]   Package wordnet is already up-to-date!\n",
            "[nltk_data] Downloading package punkt to /root/nltk_data...\n",
            "[nltk_data]   Package punkt is already up-to-date!\n",
            "[nltk_data] Downloading package averaged_perceptron_tagger to\n",
            "[nltk_data]     /root/nltk_data...\n",
            "[nltk_data]   Package averaged_perceptron_tagger is already up-to-\n",
            "[nltk_data]       date!\n"
          ]
        }
      ]
    }
  ]
}