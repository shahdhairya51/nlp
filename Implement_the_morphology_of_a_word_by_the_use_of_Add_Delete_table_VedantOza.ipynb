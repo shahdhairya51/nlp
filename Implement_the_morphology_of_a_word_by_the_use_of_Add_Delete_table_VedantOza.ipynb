{
  "nbformat": 4,
  "nbformat_minor": 0,
  "metadata": {
    "colab": {
      "provenance": []
    },
    "kernelspec": {
      "name": "python3",
      "display_name": "Python 3"
    },
    "language_info": {
      "name": "python"
    }
  },
  "cells": [
    {
      "cell_type": "code",
      "execution_count": null,
      "metadata": {
        "colab": {
          "base_uri": "https://localhost:8080/"
        },
        "id": "qx-cex_GB_nF",
        "outputId": "a7f24e9a-6a69-40b3-ba8b-7a7ec34998a9"
      },
      "outputs": [
        {
          "output_type": "stream",
          "name": "stdout",
          "text": [
            "Paradigm for शाखा:\n",
            "Case/num\tSingular\tPlural\n",
            "dr\t\tशाखाा\t\tsing\n",
            "ob\t\tशाखाों\t\tPlu\n",
            "ob\t\tशाखाे\t\tSing\n"
          ]
        }
      ],
      "source": [
        "class MorphAnalyzer:\n",
        "    def __init__(self, root, paradigm_class):\n",
        "        self.root = root\n",
        "        self.paradigm_class = paradigm_class\n",
        "\n",
        "    def get_word_form(self, number, case):\n",
        "        \"\"\"\n",
        "        Generate the word form based on number and case.\n",
        "        \"\"\"\n",
        "        if number == 'sing' and case == 'dr':\n",
        "            return self.root + 'ा'\n",
        "        elif number == 'Plu' and case == 'dr':\n",
        "            return self.root + 'े'\n",
        "        elif number == 'Sing' and case == 'ob':\n",
        "            return self.root + 'े'\n",
        "        elif number == 'Plu' and case == 'ob':\n",
        "            return self.root + 'ों'\n",
        "        else:\n",
        "            return None\n",
        "\n",
        "    def analyze_word(self):\n",
        "        \"\"\"\n",
        "        Perform morphological analysis on the word.\n",
        "        \"\"\"\n",
        "        paradigm = {'sing': {'dr': self.get_word_form('sing', 'dr')},\n",
        "                    'Plu': {'dr': self.get_word_form('Plu', 'dr')},\n",
        "                    'Sing': {'ob': self.get_word_form('Sing', 'ob')},\n",
        "                    'Plu': {'ob': self.get_word_form('Plu', 'ob')}}\n",
        "\n",
        "        return paradigm\n",
        "\n",
        "\n",
        "# Example usage\n",
        "if __name__ == \"__main__\":\n",
        "    word_analysis = MorphAnalyzer(\"शाखा\", \"paradigm_class1\")\n",
        "    analysis_result = word_analysis.analyze_word()\n",
        "\n",
        "    print(f\"Paradigm for {word_analysis.root}:\")\n",
        "    print(\"Case/num\\tSingular\\tPlural\")\n",
        "    for number, forms in analysis_result.items():\n",
        "        for case, form in forms.items():\n",
        "            print(f\"{case}\\t\\t{form}\\t\\t{number}\")\n"
      ]
    },
    {
      "cell_type": "code",
      "source": [
        "class MorphAnalyzer:\n",
        "    def __init__(self, root, paradigm_class):\n",
        "        self.root = root\n",
        "        self.paradigm_class = paradigm_class\n",
        "\n",
        "    def get_word_form(self, number, case):\n",
        "        \"\"\"\n",
        "        Generate the word form based on number and case.\n",
        "        \"\"\"\n",
        "        if number == 'sing' and case == 'dr':\n",
        "            return self.root + 'ा'\n",
        "        elif number == 'Plu' and case == 'dr':\n",
        "            return self.root + 'े'\n",
        "        elif number == 'Sing' and case == 'ob':\n",
        "            return self.root + 'े'\n",
        "        elif number == 'Plu' and case == 'ob':\n",
        "            return self.root + 'ों'\n",
        "        else:\n",
        "            return None\n",
        "\n",
        "    def analyze_word(self):\n",
        "        \"\"\"\n",
        "        Perform morphological analysis on the word.\n",
        "        \"\"\"\n",
        "        paradigm = {'sing': {'dr': self.get_word_form('sing', 'dr')},\n",
        "                    'Plu': {'dr': self.get_word_form('Plu', 'dr')},\n",
        "                    'Sing': {'ob': self.get_word_form('Sing', 'ob')},\n",
        "                    'Plu': {'ob': self.get_word_form('Plu', 'ob')}}\n",
        "\n",
        "        return paradigm\n",
        "\n",
        "\n",
        "# Example usage with user input\n",
        "if __name__ == \"__main__\":\n",
        "    root_input = input(\"Enter the root: \")\n",
        "    paradigm_class_input = input(\"Enter the paradigm class: \")\n",
        "\n",
        "    word_analysis = MorphAnalyzer(root_input, paradigm_class_input)\n",
        "    analysis_result = word_analysis.analyze_word()\n",
        "\n",
        "    print(f\"Paradigm for {word_analysis.root}:\")\n",
        "    print(\"Case/num\\tSingular\\tPlural\")\n",
        "    for number, forms in analysis_result.items():\n",
        "        for case, form in forms.items():\n",
        "            print(f\"{case}\\t\\t{form}\\t\\t{number}\")\n"
      ],
      "metadata": {
        "colab": {
          "base_uri": "https://localhost:8080/"
        },
        "id": "Z6otrnlvH4iD",
        "outputId": "86dae051-780b-4b2f-f6e7-cf539ec9427a"
      },
      "execution_count": null,
      "outputs": [
        {
          "output_type": "stream",
          "name": "stdout",
          "text": [
            "Enter the root: लड़का\n",
            "Enter the paradigm class: sing\n",
            "Paradigm for लड़का:\n",
            "Case/num\tSingular\tPlural\n",
            "dr\t\tलड़काा\t\tsing\n",
            "ob\t\tलड़काों\t\tPlu\n",
            "ob\t\tलड़काे\t\tSing\n"
          ]
        }
      ]
    }
  ]
}