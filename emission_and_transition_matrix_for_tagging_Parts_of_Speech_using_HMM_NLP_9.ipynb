{
  "nbformat": 4,
  "nbformat_minor": 0,
  "metadata": {
    "colab": {
      "provenance": []
    },
    "kernelspec": {
      "name": "python3",
      "display_name": "Python 3"
    },
    "language_info": {
      "name": "python"
    }
  },
  "cells": [
    {
      "cell_type": "code",
      "source": [
        "import numpy as np\n",
        "\n",
        "class HMM_POS_Tagger:\n",
        "    def __init__(self, train_corpus):\n",
        "        self.transition_matrix = self.calculate_transition_matrix(train_corpus)\n",
        "        self.emission_matrix = self.calculate_emission_matrix(train_corpus)\n",
        "        self.pos_tags = list(self.emission_matrix.keys())\n",
        "\n",
        "    def calculate_transition_matrix(self, train_corpus):\n",
        "        transition_matrix = {}\n",
        "        for sentence in train_corpus:\n",
        "            for i in range(len(sentence) - 1):\n",
        "                current_tag = sentence[i][1]\n",
        "                next_tag = sentence[i + 1][1]\n",
        "                if current_tag not in transition_matrix:\n",
        "                    transition_matrix[current_tag] = {}\n",
        "                if next_tag not in transition_matrix[current_tag]:\n",
        "                    transition_matrix[current_tag][next_tag] = 0\n",
        "                transition_matrix[current_tag][next_tag] += 1\n",
        "\n",
        "        # Normalize transition probabilities\n",
        "        for tag, transitions in transition_matrix.items():\n",
        "            total_count = sum(transitions.values())\n",
        "            for next_tag in transitions:\n",
        "                transition_matrix[tag][next_tag] /= total_count\n",
        "\n",
        "        return transition_matrix\n",
        "\n",
        "    def calculate_emission_matrix(self, train_corpus):\n",
        "        emission_matrix = {}\n",
        "        for sentence in train_corpus:\n",
        "            for word, tag in sentence:\n",
        "                if tag not in emission_matrix:\n",
        "                    emission_matrix[tag] = {}\n",
        "                if word not in emission_matrix[tag]:\n",
        "                    emission_matrix[tag][word] = 0\n",
        "                emission_matrix[tag][word] += 1\n",
        "\n",
        "        # Normalize emission probabilities\n",
        "        for tag, emissions in emission_matrix.items():\n",
        "            total_count = sum(emissions.values())\n",
        "            for word in emissions:\n",
        "                emission_matrix[tag][word] /= total_count\n",
        "\n",
        "        return emission_matrix\n",
        "\n",
        "    def predict(self, sentence):\n",
        "        # Perform POS tagging using Viterbi algorithm\n",
        "        # (not implemented here for brevity)\n",
        "        pass\n",
        "\n",
        "# Example usage\n",
        "train_corpus = [\n",
        "    [(\"The\", \"DT\"), (\"dog\", \"NN\"), (\"barks\", \"VBZ\")],\n",
        "    [(\"A\", \"DT\"), (\"cat\", \"NN\"), (\"meows\", \"VBZ\")]\n",
        "]\n",
        "\n",
        "hmm_tagger = HMM_POS_Tagger(train_corpus)\n",
        "print(\"Transition matrix:\")\n",
        "print(np.array([[hmm_tagger.transition_matrix.get(tag1, {}).get(tag2, 0) for tag2 in hmm_tagger.pos_tags] for tag1 in hmm_tagger.pos_tags]))\n",
        "print(\"\\nEmission matrix:\")\n",
        "print(np.array([[hmm_tagger.emission_matrix.get(tag, {}).get(word, 0) for word in [\"The\", \"dog\", \"barks\", \"A\", \"cat\", \"meows\"]] for tag in hmm_tagger.pos_tags]))\n"
      ],
      "metadata": {
        "colab": {
          "base_uri": "https://localhost:8080/"
        },
        "id": "NaQAVeIQPz7O",
        "outputId": "2900ef06-e186-4ae1-8d9a-4263a3a3be56"
      },
      "execution_count": null,
      "outputs": [
        {
          "output_type": "stream",
          "name": "stdout",
          "text": [
            "Transition matrix:\n",
            "[[0. 1. 0.]\n",
            " [0. 0. 1.]\n",
            " [0. 0. 0.]]\n",
            "\n",
            "Emission matrix:\n",
            "[[0.5 0.  0.  0.5 0.  0. ]\n",
            " [0.  0.5 0.  0.  0.5 0. ]\n",
            " [0.  0.  0.5 0.  0.  0.5]]\n"
          ]
        }
      ]
    }
  ]
}